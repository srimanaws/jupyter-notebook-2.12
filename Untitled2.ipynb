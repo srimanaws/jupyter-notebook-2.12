{
 "cells": [
  {
   "cell_type": "code",
   "execution_count": null,
   "id": "c1b608ad-01cc-400a-a4b4-77ed12854b48",
   "metadata": {},
   "outputs": [],
   "source": [
    "2.12 investment return by sriman"
   ]
  },
  {
   "cell_type": "code",
   "execution_count": 1,
   "id": "b2970a73-9567-42dd-92e5-4aedaeffdec4",
   "metadata": {},
   "outputs": [
    {
     "name": "stdout",
     "output_type": "stream",
     "text": [
      "Amount after 10 years: $1967.15\n",
      "Amount after 20 years: $3869.68\n",
      "Amount after 30 years: $7612.26\n"
     ]
    }
   ],
   "source": [
    "# 2.12 7% Investment Return\n",
    "principal = 1000\n",
    "rate = 0.07\n",
    "\n",
    "for years in [10, 20, 30]:\n",
    "    amount = principal * (1 + rate) ** years\n",
    "    print(f'Amount after {years} years: ${amount:.2f}')\n"
   ]
  }
 ],
 "metadata": {
  "kernelspec": {
   "display_name": "Python 3 (ipykernel)",
   "language": "python",
   "name": "python3"
  },
  "language_info": {
   "codemirror_mode": {
    "name": "ipython",
    "version": 3
   },
   "file_extension": ".py",
   "mimetype": "text/x-python",
   "name": "python",
   "nbconvert_exporter": "python",
   "pygments_lexer": "ipython3",
   "version": "3.12.4"
  }
 },
 "nbformat": 4,
 "nbformat_minor": 5
}
